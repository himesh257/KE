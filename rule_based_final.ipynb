{
  "nbformat": 4,
  "nbformat_minor": 0,
  "metadata": {
    "colab": {
      "name": "rule-based-final.ipynb",
      "provenance": [],
      "collapsed_sections": []
    },
    "kernelspec": {
      "name": "python3",
      "display_name": "Python 3"
    },
    "language_info": {
      "name": "python"
    }
  },
  "cells": [
    {
      "cell_type": "code",
      "source": [
        "from IPython.display import HTML, display\n",
        "\n",
        "def set_css():\n",
        "  display(HTML('''\n",
        "  <style>\n",
        "    pre {\n",
        "        white-space: pre-wrap;\n",
        "    }\n",
        "  </style>\n",
        "  '''))\n",
        "get_ipython().events.register('pre_run_cell', set_css)"
      ],
      "metadata": {
        "id": "ZTLtlotGtecK"
      },
      "execution_count": null,
      "outputs": []
    },
    {
      "cell_type": "code",
      "source": [
        "import spacy\n",
        "nlp = spacy.load('en')\n",
        "\n",
        "import re\n",
        "\n",
        "import nltk\n",
        "nltk.download('punkt')\n",
        "nltk.download('averaged_perceptron_tagger')\n",
        "from nltk.tokenize import sent_tokenize"
      ],
      "metadata": {
        "colab": {
          "base_uri": "https://localhost:8080/",
          "height": 106
        },
        "id": "g2TEzXhTtggD",
        "outputId": "e9072edc-be48-454f-f15f-b5059590e424"
      },
      "execution_count": null,
      "outputs": [
        {
          "output_type": "display_data",
          "data": {
            "text/plain": [
              "<IPython.core.display.HTML object>"
            ],
            "text/html": [
              "\n",
              "  <style>\n",
              "    pre {\n",
              "        white-space: pre-wrap;\n",
              "    }\n",
              "  </style>\n",
              "  "
            ]
          },
          "metadata": {}
        },
        {
          "output_type": "stream",
          "name": "stdout",
          "text": [
            "[nltk_data] Downloading package punkt to /root/nltk_data...\n",
            "[nltk_data]   Unzipping tokenizers/punkt.zip.\n",
            "[nltk_data] Downloading package averaged_perceptron_tagger to\n",
            "[nltk_data]     /root/nltk_data...\n",
            "[nltk_data]   Unzipping taggers/averaged_perceptron_tagger.zip.\n"
          ]
        }
      ]
    },
    {
      "cell_type": "code",
      "source": [
        "#para = \"What triggers an outbreak of the influenza virus? A new study of the flu in the 48 contiguous U.S. states, using data from the Atmospheric Infrared Sounder (AIRS) on NASA’s Aqua satellite, has found that the answer is closely tied to local weather – specifically, to low humidity – and varies from state to state. Average humidity varies widely across the United States, but even in the most humid states, it begins to drop as winter approaches. Researchers at NASA’s Jet Propulsion Laboratory in Southern California and the University of Southern California correlated AIRS measurements of water vapor in the lower atmosphere with flu case estimates for each week from 2003 to 2015. The researchers found that in each state, there is a specific level of low humidity that may signal a flu outbreak is imminent. When this threshold is crossed each year, a large increase in flu cases follows within two or three weeks, on average.\"\n",
        "para = \"On March 22, the newest U.S.-European sea level satellite, named Sentinel-6 Michael Freilich, became the official reference satellite for global sea level measurements. This means that sea surface height data collected by other satellites will be compared to the information produced by Sentinel-6 Michael Freilich to ensure their accuracy. Launched from Vandenberg Air Force Base in November 2020, the satellite is continuing a nearly 30-year legacy started by the TOPEX/Poseidon satellite, which began its mission to measure sea surface height in the early 1990s. A series of successor satellites have carried on the effort since then, with Sentinel-6 Michael Freilich being the most recent. Its twin, Sentinel-6B, is slated to launch in 2025. 'These missions, of which Sentinel-6 Michael Freilich is the latest, are the gold standard when it comes to sea level measurements, which are critical for understanding and monitoring climate change,' said Josh Willis; Sentinel-6 Michael Freilich project scientist at NASA’s Jet Propulsion Laboratory in Southern California.\"\n",
        "para"
      ],
      "metadata": {
        "colab": {
          "base_uri": "https://localhost:8080/",
          "height": 125
        },
        "id": "GEKzwf45tqYw",
        "outputId": "f0ecdbdf-66ab-4962-fee7-ee44b0e910fc"
      },
      "execution_count": null,
      "outputs": [
        {
          "output_type": "display_data",
          "data": {
            "text/plain": [
              "<IPython.core.display.HTML object>"
            ],
            "text/html": [
              "\n",
              "  <style>\n",
              "    pre {\n",
              "        white-space: pre-wrap;\n",
              "    }\n",
              "  </style>\n",
              "  "
            ]
          },
          "metadata": {}
        },
        {
          "output_type": "execute_result",
          "data": {
            "text/plain": [
              "\"On March 22, the newest U.S.-European sea level satellite, named Sentinel-6 Michael Freilich, became the official reference satellite for global sea level measurements. This means that sea surface height data collected by other satellites will be compared to the information produced by Sentinel-6 Michael Freilich to ensure their accuracy. Launched from Vandenberg Air Force Base in November 2020, the satellite is continuing a nearly 30-year legacy started by the TOPEX/Poseidon satellite, which began its mission to measure sea surface height in the early 1990s. A series of successor satellites have carried on the effort since then, with Sentinel-6 Michael Freilich being the most recent. Its twin, Sentinel-6B, is slated to launch in 2025. 'These missions, of which Sentinel-6 Michael Freilich is the latest, are the gold standard when it comes to sea level measurements, which are critical for understanding and monitoring climate change,' said Josh Willis; Sentinel-6 Michael Freilich project scientist at NASA’s Jet Propulsion Laboratory in Southern California.\""
            ],
            "application/vnd.google.colaboratory.intrinsic+json": {
              "type": "string"
            }
          },
          "metadata": {},
          "execution_count": 7
        }
      ]
    },
    {
      "cell_type": "code",
      "source": [
        "def ie_preprocess(document):\n",
        "  sentences = nltk.sent_tokenize(document)\n",
        "  sentences = [nltk.word_tokenize(sent) for sent in sentences]\n",
        "  sentences = [nltk.pos_tag(sent) for sent in sentences]\n",
        "  return sentences"
      ],
      "metadata": {
        "id": "FQ6EwnCbtdxF"
      },
      "execution_count": null,
      "outputs": []
    },
    {
      "cell_type": "markdown",
      "source": [
        "**Algorithm:**\n",
        "1. came up with some predefined rules from manual analysis\n",
        "2. used NER to ignore CARDINAL and DATE as they are most likely not keywords (however, a feature to look at what happend regarding climate on that date can be developed from it)\n",
        "3. words with LOC also dont qualify as keyword according to the analysis\n",
        "4. only identify unique words as keywords\n",
        "\n",
        "**Extra fetaures:**\n",
        "1. New features can be built with just some NER"
      ],
      "metadata": {
        "id": "gqPnAYsyt64N"
      }
    },
    {
      "cell_type": "code",
      "execution_count": null,
      "metadata": {
        "colab": {
          "base_uri": "https://localhost:8080/",
          "height": 17
        },
        "id": "Tfq-90s7tZgd",
        "outputId": "b5f925d5-c2e0-4785-d983-1ba33d505e49"
      },
      "outputs": [
        {
          "output_type": "display_data",
          "data": {
            "text/plain": [
              "<IPython.core.display.HTML object>"
            ],
            "text/html": [
              "\n",
              "  <style>\n",
              "    pre {\n",
              "        white-space: pre-wrap;\n",
              "    }\n",
              "  </style>\n",
              "  "
            ]
          },
          "metadata": {}
        }
      ],
      "source": [
        "def get_chunks(para):\n",
        "\n",
        "  grammar = '\\n'.join([\n",
        "    'My_chunk: {<TO>+<JJ>+<NNS|NN|IN>+}',\n",
        "    'My_chunk: {<NNP>+<NNS>+}',\n",
        "    'My_chunk: {<NNP>+<VBD>+<NNP>+<NN>+}',\n",
        "    'My_chunk: {<NN|NNP>+<NN|NNP>+}', \n",
        "    'My_chunk: {<DT>+<VBG>+<NNS>+}',\n",
        "    'My_chunk: {<NNS>+<JJ>+<NN>+}',\n",
        "    'My_chunk: {<VB>+<NN|NNS>+}',\n",
        "    'My_chunk: {<NN>+<NNP>+<NN|NNS>+}',\n",
        "    'My_chunk: {<,><NNS|NN|NNP>+<,>}',\n",
        "    ])\n",
        "\n",
        "  sentences = sent_tokenize(para)\n",
        "  all_keywords = []\n",
        "  for s in sentences:\n",
        "    s = re.sub(r'[^\\w\\s]', '', s)\n",
        "    print(s)\n",
        "    ner_dict = {}\n",
        "    doc = nlp(s)\n",
        "    for ent in doc.ents:\n",
        "      if (ent.label_ != (\"CARDINAL\" or \"DATE\")):\n",
        "        #print(ent.text, ent.start_char, ent.end_char, ent.label_)\n",
        "        ner_dict[ent.text] = ent.label_\n",
        "    print(ner_dict)\n",
        "\n",
        "    sent = ie_preprocess(s)[0]\n",
        "    print(sent)\n",
        "    cp = nltk.RegexpParser(grammar)\n",
        "    result = cp.parse(sent)\n",
        "\n",
        "    for a in result:\n",
        "      if isinstance(a, nltk.tree.Tree):\n",
        "          if a.label() == \"My_chunk\":\n",
        "              word = \" \".join([lf[0] for lf in a.leaves()])\n",
        "              if word not in all_keywords:\n",
        "                if word in ner_dict:\n",
        "                  if ner_dict[word] != \"LOC\":\n",
        "                    all_keywords.append(word)\n",
        "                    print(word)\n",
        "                else:\n",
        "                  all_keywords.append(word)\n",
        "                  print(word)\n",
        "    print()\n",
        "\n",
        "  #print(result)"
      ]
    },
    {
      "cell_type": "code",
      "source": [
        "get_chunks(para)"
      ],
      "metadata": {
        "colab": {
          "base_uri": "https://localhost:8080/",
          "height": 910
        },
        "id": "gN64Q9jOttao",
        "outputId": "f5b8988c-63d6-4343-811c-4ac8a6e539bf"
      },
      "execution_count": null,
      "outputs": [
        {
          "output_type": "display_data",
          "data": {
            "text/plain": [
              "<IPython.core.display.HTML object>"
            ],
            "text/html": [
              "\n",
              "  <style>\n",
              "    pre {\n",
              "        white-space: pre-wrap;\n",
              "    }\n",
              "  </style>\n",
              "  "
            ]
          },
          "metadata": {}
        },
        {
          "output_type": "stream",
          "name": "stdout",
          "text": [
            "On March 22 the newest USEuropean sea level satellite named Sentinel6 Michael Freilich became the official reference satellite for global sea level measurements\n",
            "{'March 22': 'DATE', 'USEuropean': 'GPE', 'Sentinel6': 'NORP', 'Michael Freilich': 'PERSON'}\n",
            "[('On', 'IN'), ('March', 'NNP'), ('22', 'CD'), ('the', 'DT'), ('newest', 'JJS'), ('USEuropean', 'JJ'), ('sea', 'NN'), ('level', 'NN'), ('satellite', 'NN'), ('named', 'VBN'), ('Sentinel6', 'NNP'), ('Michael', 'NNP'), ('Freilich', 'NNP'), ('became', 'VBD'), ('the', 'DT'), ('official', 'JJ'), ('reference', 'NN'), ('satellite', 'NN'), ('for', 'IN'), ('global', 'JJ'), ('sea', 'NN'), ('level', 'NN'), ('measurements', 'NNS')]\n",
            "sea level satellite\n",
            "Sentinel6 Michael Freilich\n",
            "reference satellite\n",
            "sea level\n",
            "\n",
            "This means that sea surface height data collected by other satellites will be compared to the information produced by Sentinel6 Michael Freilich to ensure their accuracy\n",
            "{'Sentinel6': 'NORP', 'Michael Freilich': 'PERSON'}\n",
            "[('This', 'DT'), ('means', 'VBZ'), ('that', 'IN'), ('sea', 'NN'), ('surface', 'NN'), ('height', 'NN'), ('data', 'NNS'), ('collected', 'VBN'), ('by', 'IN'), ('other', 'JJ'), ('satellites', 'NNS'), ('will', 'MD'), ('be', 'VB'), ('compared', 'VBN'), ('to', 'TO'), ('the', 'DT'), ('information', 'NN'), ('produced', 'VBN'), ('by', 'IN'), ('Sentinel6', 'NNP'), ('Michael', 'NNP'), ('Freilich', 'NNP'), ('to', 'TO'), ('ensure', 'VB'), ('their', 'PRP$'), ('accuracy', 'NN')]\n",
            "sea surface height\n",
            "\n",
            "Launched from Vandenberg Air Force Base in November 2020 the satellite is continuing a nearly 30year legacy started by the TOPEXPoseidon satellite which began its mission to measure sea surface height in the early 1990s\n",
            "{'Vandenberg Air Force Base': 'ORG', 'November 2020': 'DATE', 'TOPEXPoseidon': 'ORG', 'the early 1990s': 'DATE'}\n",
            "[('Launched', 'VBN'), ('from', 'IN'), ('Vandenberg', 'NNP'), ('Air', 'NNP'), ('Force', 'NNP'), ('Base', 'NNP'), ('in', 'IN'), ('November', 'NNP'), ('2020', 'CD'), ('the', 'DT'), ('satellite', 'NN'), ('is', 'VBZ'), ('continuing', 'VBG'), ('a', 'DT'), ('nearly', 'RB'), ('30year', 'CD'), ('legacy', 'NN'), ('started', 'VBN'), ('by', 'IN'), ('the', 'DT'), ('TOPEXPoseidon', 'NNP'), ('satellite', 'NN'), ('which', 'WDT'), ('began', 'VBD'), ('its', 'PRP$'), ('mission', 'NN'), ('to', 'TO'), ('measure', 'VB'), ('sea', 'NN'), ('surface', 'NN'), ('height', 'NN'), ('in', 'IN'), ('the', 'DT'), ('early', 'JJ'), ('1990s', 'CD')]\n",
            "Vandenberg Air Force Base\n",
            "TOPEXPoseidon satellite\n",
            "\n",
            "A series of successor satellites have carried on the effort since then with Sentinel6 Michael Freilich being the most recent\n",
            "{'Sentinel6': 'NORP', 'Michael Freilich': 'PERSON'}\n",
            "[('A', 'DT'), ('series', 'NN'), ('of', 'IN'), ('successor', 'NN'), ('satellites', 'NNS'), ('have', 'VBP'), ('carried', 'VBN'), ('on', 'IN'), ('the', 'DT'), ('effort', 'NN'), ('since', 'IN'), ('then', 'RB'), ('with', 'IN'), ('Sentinel6', 'NNP'), ('Michael', 'NNP'), ('Freilich', 'NNP'), ('being', 'VBG'), ('the', 'DT'), ('most', 'RBS'), ('recent', 'JJ')]\n",
            "\n",
            "Its twin Sentinel6B is slated to launch in 2025\n",
            "{'Sentinel6B': 'ORG', '2025': 'DATE'}\n",
            "[('Its', 'PRP$'), ('twin', 'NN'), ('Sentinel6B', 'NNP'), ('is', 'VBZ'), ('slated', 'VBN'), ('to', 'TO'), ('launch', 'VB'), ('in', 'IN'), ('2025', 'CD')]\n",
            "twin Sentinel6B\n",
            "\n",
            "These missions of which Sentinel6 Michael Freilich is the latest are the gold standard when it comes to sea level measurements which are critical for understanding and monitoring climate change said Josh Willis Sentinel6 Michael Freilich project scientist at NASAs Jet Propulsion Laboratory in Southern California\n",
            "{'Sentinel6': 'NORP', 'Michael Freilich': 'PERSON', 'Josh Willis': 'PERSON', 'NASAs Jet Propulsion Laboratory': 'ORG', 'Southern California': 'LOC'}\n",
            "[('These', 'DT'), ('missions', 'NNS'), ('of', 'IN'), ('which', 'WDT'), ('Sentinel6', 'NNP'), ('Michael', 'NNP'), ('Freilich', 'NNP'), ('is', 'VBZ'), ('the', 'DT'), ('latest', 'JJS'), ('are', 'VBP'), ('the', 'DT'), ('gold', 'JJ'), ('standard', 'NN'), ('when', 'WRB'), ('it', 'PRP'), ('comes', 'VBZ'), ('to', 'TO'), ('sea', 'VB'), ('level', 'NN'), ('measurements', 'NNS'), ('which', 'WDT'), ('are', 'VBP'), ('critical', 'JJ'), ('for', 'IN'), ('understanding', 'VBG'), ('and', 'CC'), ('monitoring', 'JJ'), ('climate', 'NN'), ('change', 'NN'), ('said', 'VBD'), ('Josh', 'NNP'), ('Willis', 'NNP'), ('Sentinel6', 'NNP'), ('Michael', 'NNP'), ('Freilich', 'NNP'), ('project', 'NN'), ('scientist', 'NN'), ('at', 'IN'), ('NASAs', 'NNP'), ('Jet', 'NNP'), ('Propulsion', 'NNP'), ('Laboratory', 'NNP'), ('in', 'IN'), ('Southern', 'NNP'), ('California', 'NNP')]\n",
            "sea level measurements\n",
            "climate change\n",
            "Josh Willis Sentinel6 Michael Freilich project scientist\n",
            "NASAs Jet Propulsion Laboratory\n",
            "\n"
          ]
        }
      ]
    },
    {
      "cell_type": "code",
      "source": [
        ""
      ],
      "metadata": {
        "id": "ZEs3NIfqt3yb"
      },
      "execution_count": null,
      "outputs": []
    }
  ]
}